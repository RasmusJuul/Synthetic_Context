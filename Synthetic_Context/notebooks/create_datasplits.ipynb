{
 "cells": [
  {
   "cell_type": "code",
   "execution_count": 1,
   "id": "87c74aaa-2680-4016-beac-04100b2896f8",
   "metadata": {},
   "outputs": [],
   "source": [
    "import os\n",
    "import pandas as pd\n",
    "from src import _PATH_DATA"
   ]
  },
  {
   "cell_type": "code",
   "execution_count": 2,
   "id": "e3902a26-4c20-46c3-be92-13fa0ea852aa",
   "metadata": {},
   "outputs": [],
   "source": [
    "DATASET_PATH = os.path.join(_PATH_DATA,\"bugnist_256\")\n",
    "\n",
    "folders = [name for name in os.listdir(DATASET_PATH) if os.path.isdir(os.path.join(DATASET_PATH, name))]\n",
    "files = [f\"{folder}/{file}\" for folder in folders for file in os.listdir(f\"{DATASET_PATH}/{folder}\")]\n",
    "# write files as csv\n",
    "with open(f\"{DATASET_PATH}/files.csv\", \"w\") as f:\n",
    "    f.write(\"files\\n\")\n",
    "    f.write(\"\\n\".join(files))"
   ]
  },
  {
   "cell_type": "code",
   "execution_count": 3,
   "id": "221f5db8-fa28-46fe-8b0a-3419bb750dbf",
   "metadata": {},
   "outputs": [],
   "source": [
    "CSV_PATH = \"../data/bugnist_256/files.csv\"\n",
    "VALIDATION_PATH = \"../data/bugnist_256/validation.csv\"\n",
    "TRAIN_PATH = \"../data/bugnist_256/train.csv\"\n",
    "TEST_PATH = \"../data/bugnist_256/test.csv\"\n",
    "SAMPLE_PERCENTAGE = 0.20\n",
    "\n",
    "# SEED = 9000 + 4206969420\n",
    "SEED = 8963514\n",
    "\n",
    "# Avoid accidentally overwriting data\n",
    "error: str = \"\"\n",
    "if os.path.exists(VALIDATION_PATH):\n",
    "    error = f\"{VALIDATION_PATH} already exists. \"\n",
    "if os.path.exists(TRAIN_PATH):\n",
    "    error += f\"{TRAIN_PATH} already exists. \"\n",
    "    \n",
    "if os.path.exists(TEST_PATH):\n",
    "    error += f\"{TEST_PATH} already exists. \"\n",
    "\n",
    "if not os.path.exists(CSV_PATH):\n",
    "    error += f\"CSV path {CSV_PATH} does not exist. \"\n",
    "\n",
    "if SAMPLE_PERCENTAGE < 0 or SAMPLE_PERCENTAGE > 1:\n",
    "    error += f\"Sample percentage {SAMPLE_PERCENTAGE} is not between 0 and 1. \"\n",
    "\n",
    "if error:\n",
    "    raise ValueError(error.strip())\n",
    "\n",
    "original_csv = pd.read_csv(CSV_PATH)\n",
    "\n",
    "labels = original_csv[\"files\"].map(lambda x: x[0:2])\n",
    "grouped = original_csv.groupby(labels.values)\n",
    "test_subset = grouped.sample(frac=SAMPLE_PERCENTAGE, random_state=SEED)\n",
    "\n",
    "test_subset.to_csv(TEST_PATH, index=False)\n",
    "\n",
    "difference = original_csv.index.difference(test_subset.index)\n",
    "original_without_test_subset = original_csv.loc[difference]\n",
    "\n",
    "\n",
    "labels = original_without_test_subset[\"files\"].map(lambda x: x[0:2])\n",
    "grouped = original_without_test_subset.groupby(labels.values)\n",
    "val_subset = grouped.sample(frac=SAMPLE_PERCENTAGE, random_state=SEED)\n",
    "\n",
    "val_subset.to_csv(VALIDATION_PATH, index=False)\n",
    "\n",
    "difference = original_without_test_subset.index.difference(val_subset.index)\n",
    "train_subset = original_without_test_subset.loc[difference]\n",
    "\n",
    "train_subset.to_csv(TRAIN_PATH, index=False)"
   ]
  },
  {
   "cell_type": "code",
   "execution_count": 1,
   "id": "73838d03-8fda-4adc-bd80-48cee527235a",
   "metadata": {},
   "outputs": [],
   "source": [
    "import torch\n",
    "from glob import glob\n",
    "from src import _PATH_DATA\n",
    "import numpy as np\n",
    "import pandas as pd"
   ]
  },
  {
   "cell_type": "code",
   "execution_count": 2,
   "id": "6997f411-c92b-455d-b9d6-48db9fd03fe0",
   "metadata": {},
   "outputs": [],
   "source": [
    "img_paths = glob(\"noisy_mixes_256/mix*.tif\",root_dir=_PATH_DATA)\n",
    "label_paths = glob(\"noisy_mixes_256/label*.tif\",root_dir=_PATH_DATA)\n",
    "\n",
    "img_paths.sort()\n",
    "label_paths.sort()\n",
    "\n",
    "np.random.seed(42)\n",
    "train_set = np.random.choice(10000,size=7000, replace=False)\n",
    "temp = np.arange(10000)\n",
    "temp = np.delete(temp,train_set)\n",
    "vali_set = np.random.choice(temp,size=1500,replace=False)\n",
    "test_set = np.array([i for i in temp if not np.isin(vali_set,i).any()])\n",
    "\n",
    "df_train = pd.DataFrame(data={\"image_path\":np.array(img_paths)[train_set],\"label_path\":np.array(label_paths)[train_set]})\n",
    "df_vali = pd.DataFrame(data={\"image_path\":np.array(img_paths)[vali_set],\"label_path\":np.array(label_paths)[vali_set]})\n",
    "df_test = pd.DataFrame(data={\"image_path\":np.array(img_paths)[test_set],\"label_path\":np.array(label_paths)[test_set]})\n",
    "\n",
    "\n",
    "df_train.to_csv(_PATH_DATA+\"/train_noisy_mix.csv\", index=False)\n",
    "df_vali.to_csv(_PATH_DATA+\"/validation_noisy_mix.csv\", index=False)\n",
    "df_test.to_csv(_PATH_DATA+\"/test_noisy_mix.csv\", index=False)"
   ]
  },
  {
   "cell_type": "code",
   "execution_count": null,
   "id": "62d2dc30-f263-44ad-a2f1-1c62b5666ac0",
   "metadata": {},
   "outputs": [],
   "source": [
    "import pandas as pd\n",
    "from src import _PATH_DATA"
   ]
  },
  {
   "cell_type": "code",
   "execution_count": null,
   "id": "b106e467-0934-4f63-9d6b-725627eb68eb",
   "metadata": {},
   "outputs": [],
   "source": [
    "df1 = pd.read_csv(_PATH_DATA+\"/train_noisy_mix.csv\")\n",
    "df2 = pd.read_csv(_PATH_DATA+\"/bugnist_512/train.csv\")\n",
    "df3 = pd.read_csv(_PATH_DATA+\"/bugnist_256/train.csv\")\n",
    "\n",
    "df2 = df2.rename(columns={\"files\":\"image_path\"})\n",
    "df2[\"label_path\"] = [\"none\"]*len(df2)\n",
    "for i in range(len(df2)):\n",
    "    df2.image_path[i] = \"bugnist_512/\"+df2.image_path[i]\n",
    "\n",
    "df3 = df3.rename(columns={\"files\":\"image_path\"})\n",
    "df3[\"label_path\"] = [\"none\"]*len(df3)\n",
    "for i in range(len(df3)):\n",
    "    df3.image_path[i] = \"bugnist_256/\"+df3.image_path[i]\n",
    "\n",
    "df = pd.concat([df1,df2,df3],ignore_index=True)\n",
    "df.to_csv(\"../data/train.csv\",index=False)"
   ]
  },
  {
   "cell_type": "code",
   "execution_count": null,
   "id": "db3789d6-9ce3-4da6-93c9-85415704d7a9",
   "metadata": {},
   "outputs": [],
   "source": [
    "df1 = pd.read_csv(_PATH_DATA+\"/validation_noisy_mix.csv\")\n",
    "df2 = pd.read_csv(_PATH_DATA+\"/bugnist_512/validation.csv\")\n",
    "df3 = pd.read_csv(_PATH_DATA+\"/bugnist_256/validation.csv\")\n",
    "\n",
    "df2 = df2.rename(columns={\"files\":\"image_path\"})\n",
    "df2[\"label_path\"] = [\"none\"]*len(df2)\n",
    "for i in range(len(df2)):\n",
    "    df2.image_path[i] = \"bugnist_512/\"+df2.image_path[i]\n",
    "\n",
    "df3 = df3.rename(columns={\"files\":\"image_path\"})\n",
    "df3[\"label_path\"] = [\"none\"]*len(df3)\n",
    "for i in range(len(df3)):\n",
    "    df3.image_path[i] = \"bugnist_256/\"+df3.image_path[i]\n",
    "\n",
    "df = pd.concat([df1,df2,df3],ignore_index=True)\n",
    "df.to_csv(\"../data/validation.csv\",index=False)"
   ]
  },
  {
   "cell_type": "code",
   "execution_count": null,
   "id": "c98a55ec-97f7-4258-a6fd-080caeec8218",
   "metadata": {},
   "outputs": [],
   "source": [
    "df1 = pd.read_csv(_PATH_DATA+\"/test_noisy_mix.csv\")\n",
    "df2 = pd.read_csv(_PATH_DATA+\"/bugnist_512/test.csv\")\n",
    "df3 = pd.read_csv(_PATH_DATA+\"/bugnist_256/test.csv\")\n",
    "\n",
    "df2 = df2.rename(columns={\"files\":\"image_path\"})\n",
    "df2[\"label_path\"] = [\"none\"]*len(df2)\n",
    "for i in range(len(df2)):\n",
    "    df2.image_path[i] = \"bugnist_512/\"+df2.image_path[i]\n",
    "\n",
    "df3 = df3.rename(columns={\"files\":\"image_path\"})\n",
    "df3[\"label_path\"] = [\"none\"]*len(df3)\n",
    "for i in range(len(df3)):\n",
    "    df3.image_path[i] = \"bugnist_256/\"+df3.image_path[i]\n",
    "\n",
    "df = pd.concat([df1,df2,df3],ignore_index=True)\n",
    "df.to_csv(\"../data/test.csv\",index=False)"
   ]
  }
 ],
 "metadata": {
  "kernelspec": {
   "display_name": "thesis",
   "language": "python",
   "name": "thesis"
  },
  "language_info": {
   "codemirror_mode": {
    "name": "ipython",
    "version": 3
   },
   "file_extension": ".py",
   "mimetype": "text/x-python",
   "name": "python",
   "nbconvert_exporter": "python",
   "pygments_lexer": "ipython3",
   "version": "3.10.12"
  }
 },
 "nbformat": 4,
 "nbformat_minor": 5
}
