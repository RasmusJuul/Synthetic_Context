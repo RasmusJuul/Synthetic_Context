{
 "cells": [
  {
   "cell_type": "code",
   "execution_count": 1,
   "id": "9ed49388-9f19-4f49-8903-398fb33f9ef5",
   "metadata": {},
   "outputs": [],
   "source": [
    "import scipy.ndimage as ndi\n",
    "import numpy as np\n",
    "from skimage import io\n",
    "import os\n",
    "import glob\n",
    "import tifffile\n",
    "from tqdm import tqdm\n",
    "\n",
    "from py3dbp import Packer, Bin, Item"
   ]
  },
  {
   "cell_type": "code",
   "execution_count": 2,
   "id": "f72e7afd-f13b-460a-8645-138dab8c104d",
   "metadata": {},
   "outputs": [],
   "source": [
    "def create_mask(im,intensity_threshold,iteration):\n",
    "    h,_,_ = ndi.center_of_mass(im)\n",
    "    h = int(h)\n",
    "    \n",
    "    bottom = 0\n",
    "    for i in range(max(h-(20+iteration),0),0,-1):\n",
    "        if im[i,:,:].max() < intensity_threshold:\n",
    "            bottom = i\n",
    "            break\n",
    "    \n",
    "    top = im.shape[0]\n",
    "    for i in range(min(h+(20+iteration),im.shape[0]),im.shape[0]):\n",
    "        if im[i,:,:].max() < intensity_threshold:\n",
    "            top = i\n",
    "            break\n",
    "\n",
    "    mask = np.zeros(im.shape)\n",
    "    mask[bottom:top,:,:] = 1\n",
    "    \n",
    "    im_avg = ndi.convolve(im, np.ones((3,3,3))/(3**3))\n",
    "    \n",
    "    if im[mask == 1].max() < im_avg.max():\n",
    "        im[mask == 1] = 0\n",
    "        return create_mask(im,intensity_threshold,iteration+1)\n",
    "    return mask"
   ]
  },
  {
   "cell_type": "code",
   "execution_count": 14,
   "id": "7845956f-05d8-4b8d-adb7-35a2becd9d07",
   "metadata": {},
   "outputs": [],
   "source": [
    "file_paths = glob.glob(\"../../bugnist_512_oskar_filtered/**/*.tif\")"
   ]
  },
  {
   "cell_type": "code",
   "execution_count": 4,
   "id": "50c014e1-648b-4f17-88b8-af884090fda5",
   "metadata": {},
   "outputs": [],
   "source": [
    "picked_files = np.random.choice(file_paths,size=30,replace=False)\n",
    "file = picked_files[0]\n",
    "\n",
    "im = io.imread(file)\n",
    "mask = create_mask(im, 100, 0)\n",
    "im[mask == 0] = 0\n",
    "# tifffile.imwrite(\"test-images/\"+file.split(\"/\")[-1], im)"
   ]
  },
  {
   "cell_type": "code",
   "execution_count": 16,
   "id": "eca53d65-62c3-4fdf-9eed-a020b084a3d3",
   "metadata": {},
   "outputs": [
    {
     "name": "stderr",
     "output_type": "stream",
     "text": [
      "100%|█████████████████████████████████████████████████████████████████████████████████████| 2/2 [01:08<00:00, 34.00s/it]\n"
     ]
    }
   ],
   "source": [
    "picked_files = np.random.choice(file_paths,size=2,replace=False)\n",
    "\n",
    "for file in tqdm(picked_files):\n",
    "    im = io.imread(file)\n",
    "    mask = create_mask(im, 100, 0)\n",
    "    im[mask == 0] = 0\n",
    "    # tifffile.imwrite(\"test-images/\"+file.split(\"/\")[-1], im)\n",
    "    \n",
    "    angle1 = np.random.randint(0,360)\n",
    "    angle2 = np.random.randint(0,360)\n",
    "    angle3 = np.random.randint(0,360)\n",
    "    \n",
    "    out = ndi.rotate(im, angle1, axes = (1,0))\n",
    "    out = ndi.rotate(out, angle2, axes = (1,2))\n",
    "    out = ndi.rotate(out, angle3, axes = (0,2))\n",
    "    \n",
    "    for i in range(out.shape[2]):\n",
    "        if np.any(out[:,:,i] >= 100):\n",
    "            ax2_top = i\n",
    "    for i in range(out.shape[2]-1,-1,-1):\n",
    "        if np.any(out[:,:,i] >= 100):\n",
    "            ax2_bottom = i\n",
    "    for i in range(out.shape[1]):\n",
    "        if np.any(out[:,i,:] >= 100):\n",
    "            ax1_top = i\n",
    "    for i in range(out.shape[1]-1,-1,-1):\n",
    "        if np.any(out[:,i,:] >= 100):\n",
    "            ax1_bottom = i\n",
    "    for i in range(out.shape[0]):\n",
    "        if np.any(out[i,:,:] >= 100):\n",
    "            ax0_top = i\n",
    "    for i in range(out.shape[0]-1,-1,-1):\n",
    "        if np.any(out[i,:,:] >= 100):\n",
    "            ax0_bottom = i\n",
    "    \n",
    "    cut = out[ax0_bottom:ax0_top,ax1_bottom:ax1_top,ax2_bottom:ax2_top]\n",
    "\n",
    "    tifffile.imwrite(\"test-images/smaller_cut_\"+file.split(\"/\")[-1], cut)"
   ]
  },
  {
   "cell_type": "code",
   "execution_count": 127,
   "id": "65e84a6b-b5e2-4795-818f-c921b08d6cc3",
   "metadata": {},
   "outputs": [],
   "source": [
    "packer = Packer()\n",
    "# desired_size = (900,650,650)\n",
    "packer.add_bin(Bin('mix', 900, 650, 650, 999))"
   ]
  },
  {
   "cell_type": "code",
   "execution_count": 128,
   "id": "91cea29e-a044-4b45-a58c-652dcc4bf630",
   "metadata": {},
   "outputs": [],
   "source": [
    "img_paths = glob.glob(\"test-images/*.tif\")"
   ]
  },
  {
   "cell_type": "code",
   "execution_count": 129,
   "id": "f4352f3f-70b6-4adc-a304-abaa7367aaea",
   "metadata": {},
   "outputs": [],
   "source": [
    "img_dict = {}\n",
    "for file in img_paths:\n",
    "    im = io.imread(file)\n",
    "    img_dict[file.split(\"/\")[1][12:]] = im\n",
    "    packer.add_item(Item(file.split(\"/\")[-1][12:], im.shape[0], im.shape[1], im.shape[2], 1))"
   ]
  },
  {
   "cell_type": "code",
   "execution_count": 131,
   "id": "b46c1b37-10b8-47cc-9722-8f62ed86786b",
   "metadata": {},
   "outputs": [],
   "source": [
    "packer.pack(bigger_first=True)"
   ]
  },
  {
   "cell_type": "code",
   "execution_count": 132,
   "id": "d3f3bf41-cb4c-4126-8421-fee8e183cfb3",
   "metadata": {},
   "outputs": [],
   "source": [
    "bin = next(iter(packer.bins))"
   ]
  },
  {
   "cell_type": "code",
   "execution_count": 133,
   "id": "02fd277a-7b99-4e05-9a0f-60137d7d626b",
   "metadata": {},
   "outputs": [],
   "source": [
    "new_mix = np.zeros((900,650,650))"
   ]
  },
  {
   "cell_type": "code",
   "execution_count": 134,
   "id": "1f3e8adc-8e0b-4fcc-a6a5-4b6f7e9f3491",
   "metadata": {},
   "outputs": [],
   "source": [
    "for item in bin.items:\n",
    "    temp_img = img_dict[item.name]\n",
    "    if item.rotation_type == 1:\n",
    "        temp_img = np.swapaxes(temp_img,0,1)\n",
    "    elif item.rotation_type == 2:\n",
    "        temp_img = np.rollaxis(temp_img,0,3)\n",
    "    elif item.rotation_type == 3:\n",
    "        temp_img = np.swapaxes(temp_img,0,2)\n",
    "    elif item.rotation_type == 4:\n",
    "        temp_img = np.rollaxis(temp_img,2,0)\n",
    "    elif item.rotation_type == 5:\n",
    "        temp_img = np.swapaxes(temp_img,1,2)\n",
    "    \n",
    "    temp_img_shape = temp_img.shape\n",
    "    start_position = item.position\n",
    "    \n",
    "    new_mix[int(start_position[0]):int(start_position[0])+temp_img_shape[0],\n",
    "            int(start_position[1]):int(start_position[1])+temp_img_shape[1],\n",
    "            int(start_position[2]):int(start_position[2])+temp_img_shape[2]] = temp_img\n",
    "new_mix = new_mix.astype('uint8')\n",
    "tifffile.imwrite(\"mixes/bigger_first_mix.tif\", new_mix)"
   ]
  },
  {
   "cell_type": "code",
   "execution_count": null,
   "id": "37def6e6-12fb-4086-8977-bf5cfa63400f",
   "metadata": {},
   "outputs": [],
   "source": []
  }
 ],
 "metadata": {
  "kernelspec": {
   "display_name": "thesis",
   "language": "python",
   "name": "thesis"
  },
  "language_info": {
   "codemirror_mode": {
    "name": "ipython",
    "version": 3
   },
   "file_extension": ".py",
   "mimetype": "text/x-python",
   "name": "python",
   "nbconvert_exporter": "python",
   "pygments_lexer": "ipython3",
   "version": "3.10.12"
  }
 },
 "nbformat": 4,
 "nbformat_minor": 5
}
